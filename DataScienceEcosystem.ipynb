{
 "cells": [
  {
   "cell_type": "markdown",
   "id": "d6b86985-bd7f-4973-8523-b1e2a8a79f15",
   "metadata": {},
   "source": [
    "# Data Science Tools and Ecosystem"
   ]
  },
  {
   "cell_type": "markdown",
   "id": "fbdaf236-f45e-44eb-bf11-24f5d20d60f2",
   "metadata": {},
   "source": [
    "In this notebook, Data Science Tools and Ecosystem are summarized."
   ]
  },
  {
   "cell_type": "markdown",
   "id": "d493f97b-0cae-4ba1-afa0-66ac20f75ea0",
   "metadata": {},
   "source": [
    "**Objectives:**\n",
    "- List of popular languages used by Data Scientists\n",
    "- List of commonly used libraries\n",
    "- List of Data Science tools used by Data Scientists\n",
    "- Examples of evaluation of arithmetic expressions"
   ]
  },
  {
   "cell_type": "markdown",
   "id": "88bffbd2-1a83-47ab-b801-58f2a83fa5c8",
   "metadata": {},
   "source": [
    "Some of the popular languages that Data Scientist use are:\n",
    "1. Python\n",
    "2. R\n",
    "3. SQL"
   ]
  },
  {
   "cell_type": "markdown",
   "id": "3a444dab-15c7-4ade-a562-99a2ee19fe14",
   "metadata": {},
   "source": [
    "Some of the commonly used libraries used by Data Scientists include:\n",
    "1. Numpy\n",
    "2. Pandas\n",
    "3. Matplotlib\n",
    "4. Seaborn\n",
    "5. Keras\n",
    "6. Scikit-learn\n",
    "7. Tensorflow"
   ]
  },
  {
   "cell_type": "markdown",
   "id": "4d7cdbbc-3939-472b-898e-783a58633113",
   "metadata": {},
   "source": [
    "|Data Science Tools|\n",
    "|------------------|\n",
    "|Jupyter Notebook|\n",
    "|R Studio|\n",
    "|GitHub|"
   ]
  },
  {
   "cell_type": "markdown",
   "id": "85020771-d0ae-46d7-92d3-08be08b53de0",
   "metadata": {},
   "source": [
    "### Below are a few examples of evaluating arithmetic expressions in Python."
   ]
  },
  {
   "cell_type": "code",
   "execution_count": 1,
   "id": "f39a8099-e92f-4ffd-bb8c-dea81834b254",
   "metadata": {
    "tags": []
   },
   "outputs": [
    {
     "data": {
      "text/plain": [
       "17"
      ]
     },
     "execution_count": 1,
     "metadata": {},
     "output_type": "execute_result"
    }
   ],
   "source": [
    "# Here is an example of evaluating arithmetic expression which first multiply 3 and 4, then add 5 to it.\n",
    "(3*4)+5"
   ]
  },
  {
   "cell_type": "code",
   "execution_count": 2,
   "id": "46d35fb5-2a8b-4ecb-b38b-ca45d84c53b6",
   "metadata": {
    "tags": []
   },
   "outputs": [
    {
     "data": {
      "text/plain": [
       "3.3333333333333335"
      ]
     },
     "execution_count": 2,
     "metadata": {},
     "output_type": "execute_result"
    }
   ],
   "source": [
    "# This will convert 200 minuted into hours by dividing by 60\n",
    "200/60"
   ]
  },
  {
   "cell_type": "markdown",
   "id": "c9d7da47-b440-4743-aeba-1568913e27e8",
   "metadata": {},
   "source": [
    "## Author"
   ]
  },
  {
   "cell_type": "markdown",
   "id": "28ee2c41-584b-47c8-8ffe-e0e8916388ed",
   "metadata": {
    "tags": []
   },
   "source": [
    "Pratik Hingnekar"
   ]
  }
 ],
 "metadata": {
  "kernelspec": {
   "display_name": "Python",
   "language": "python",
   "name": "conda-env-python-py"
  },
  "language_info": {
   "codemirror_mode": {
    "name": "ipython",
    "version": 3
   },
   "file_extension": ".py",
   "mimetype": "text/x-python",
   "name": "python",
   "nbconvert_exporter": "python",
   "pygments_lexer": "ipython3",
   "version": "3.7.12"
  }
 },
 "nbformat": 4,
 "nbformat_minor": 5
}
